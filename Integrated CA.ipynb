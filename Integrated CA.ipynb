{
 "cells": [
  {
   "cell_type": "markdown",
   "id": "7171974f",
   "metadata": {},
   "source": [
    "# Integrated CA for Machine Learning and Data Visualization Techniques"
   ]
  },
  {
   "cell_type": "markdown",
   "id": "c966873b",
   "metadata": {},
   "source": [
    "## Student Name: Mijail Fausto Blanco Vargas\n",
    "## Student Number: 2023012\n",
    "## Git Hub Link:  https://github.com/mijailbv/Integrated_CA_ML_-DVis"
   ]
  },
  {
   "cell_type": "markdown",
   "id": "a0cbf195",
   "metadata": {},
   "source": [
    "## Assessment details\n",
    "### 1) Discuss and explain the purpose of a recommendation system for online retail business in machine learning. Briefly compare Content and Collaborative filtering using any dataset of your choice (Datasets used in the class tutorials or exercises are not allowed to use in this CA2). Train and test machine learning models for the user-user or item-item collaborative filtering. Justify your recommendations for the considered scenario by providing a conceptual insight.\n"
   ]
  },
  {
   "cell_type": "markdown",
   "id": "fbc35cd9",
   "metadata": {},
   "source": [
    "## 1.1) Discussion and Explanation of a Recommendation system in Machine Learning:"
   ]
  },
  {
   "cell_type": "markdown",
   "id": "6a802a38",
   "metadata": {},
   "source": [
    "A recomendation system in online retail has the purpose to suggest customers or users what services or products they would be interested to purchase, adquire, or buy according to previous data like previous sells, categories of the products, streaming services, demographics, age, among others are analyzed creating the recommendation system using Machine Learning Models that predicts what are the interests of the customers and give us the option to offer it to them. For example, when you buy clothes in Shein, after you buy them, you got new recommendation clothers according to what you bought previously and what are the tendencies that other people bought when they selected the same product you choose and this new recommendations come because Machine Learning is implemented in many companies to save time to customers and also give offers that the customer could be interested."
   ]
  },
  {
   "cell_type": "markdown",
   "id": "71dac1e2",
   "metadata": {},
   "source": [
    "## 1.2 Comparisson between Content and Collaborative Filtering using Books Dataset"
   ]
  },
  {
   "cell_type": "code",
   "execution_count": null,
   "id": "7011b333",
   "metadata": {},
   "outputs": [],
   "source": []
  }
 ],
 "metadata": {
  "kernelspec": {
   "display_name": "Python 3 (ipykernel)",
   "language": "python",
   "name": "python3"
  },
  "language_info": {
   "codemirror_mode": {
    "name": "ipython",
    "version": 3
   },
   "file_extension": ".py",
   "mimetype": "text/x-python",
   "name": "python",
   "nbconvert_exporter": "python",
   "pygments_lexer": "ipython3",
   "version": "3.9.13"
  }
 },
 "nbformat": 4,
 "nbformat_minor": 5
}
